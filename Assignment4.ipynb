{
 "cells": [
  {
   "cell_type": "markdown",
   "metadata": {},
   "source": [
    "# SWE546_Assignment4\n",
    "\n",
    "MovieLens Recommendation System\n",
    "\n",
    "http://grouplens.org/datasets/movielens/\n",
    "\n",
    "Using the MovieLens 1M dataset, and using only the rankings, implement a recommendation sytem using SGD.\n",
    "\n",
    "import pandas as pd\n",
    "\n",
    "rnames = ['user_id', 'movie_id', 'rating', 'timestamp'] ratings = pd.read_table('data/ml-1m/ratings.dat', sep='::', header=None, names=rnames)\n",
    "\n",
    "The output of your program must be the highest estimated rankings for the first 10 movies of the first 20 users"
   ]
  },
  {
   "cell_type": "code",
   "execution_count": 1,
   "metadata": {
    "collapsed": false
   },
   "outputs": [
    {
     "name": "stderr",
     "output_type": "stream",
     "text": [
      "/Users/onurtokoglu/anaconda/lib/python3.5/site-packages/ipykernel/__main__.py:5: ParserWarning: Falling back to the 'python' engine because the 'c' engine does not support regex separators; you can avoid this warning by specifying engine='python'.\n"
     ]
    }
   ],
   "source": [
    "import pandas as pd\n",
    "import numpy as np\n",
    "\n",
    "rnames = ['user_id', 'movie_id', 'rating', 'timestamp'] \n",
    "ratings = pd.read_table('ml-1m/ratings.dat', sep='::', header=None, names=rnames)"
   ]
  },
  {
   "cell_type": "code",
   "execution_count": 2,
   "metadata": {
    "collapsed": false,
    "scrolled": true
   },
   "outputs": [
    {
     "name": "stdout",
     "output_type": "stream",
     "text": [
      "userId - movieId - rating\n",
      "[[   1 1193    5]\n",
      " [   1  661    3]\n",
      " [   1  914    3]]\n"
     ]
    }
   ],
   "source": [
    "Ys = np.mat(ratings)[:,0:3]\n",
    "numUser = np.max(Ys[:,0])\n",
    "numMov = np.max(Ys[:,1])\n",
    "print(\"userId - movieId - rating\")\n",
    "print(Ys[0:3,:])"
   ]
  },
  {
   "cell_type": "code",
   "execution_count": 16,
   "metadata": {
    "collapsed": false
   },
   "outputs": [],
   "source": [
    "k = 20\n",
    "\n",
    "A = np.mat(np.random.rand(numUser,k))\n",
    "B = np.mat(np.random.rand(k,numMov))\n",
    "\n",
    "iterationCount = 10\n",
    "Eta = 0.1\n"
   ]
  },
  {
   "cell_type": "code",
   "execution_count": 17,
   "metadata": {
    "collapsed": true
   },
   "outputs": [],
   "source": [
    "def CalculateError(Ys,A,B):\n",
    "    error = 0.0\n",
    "    for i in range(len(Ys)):\n",
    "        ui = Ys[i,0] - 1\n",
    "        mi = Ys[i,1] - 1\n",
    "        err = A[ui,:]*B[:,mi] - Ys[i,2]\n",
    "        error += (err*err)[0,0]\n",
    "    return error/len(Ys)"
   ]
  },
  {
   "cell_type": "code",
   "execution_count": 18,
   "metadata": {
    "collapsed": false
   },
   "outputs": [
    {
     "name": "stdout",
     "output_type": "stream",
     "text": [
      "4.23901069465\n",
      "1.4285585952\n",
      "0.838054266818\n",
      "0.710782737198\n",
      "0.653196474055\n",
      "0.620264906882\n",
      "0.598722462204\n",
      "0.583473324674\n",
      "0.572090225435\n",
      "0.563249159233\n"
     ]
    }
   ],
   "source": [
    "import sys\n",
    "\n",
    "for i in range(iterationCount):\n",
    "    \n",
    "    print(CalculateError(Ys,A,B))\n",
    "    sys.stdout.flush()\n",
    "        \n",
    "    for j in range(len(Ys)):\n",
    "        uj = Ys[j,0] - 1\n",
    "        mj = Ys[j,1] - 1\n",
    "        err = Ys[j,2] - A[uj,:]*B[:,mj]\n",
    "        tempA = A[uj,:] + Eta*(1/(i+1)) * err[0,0] * B[:,mj].T\n",
    "        B[:,mj] = B[:,mj] + Eta*(1/(i+1)) * err[0,0] * A[uj,:].T\n",
    "        A[uj,:] = tempA\n",
    "        "
   ]
  },
  {
   "cell_type": "code",
   "execution_count": 19,
   "metadata": {
    "collapsed": false,
    "scrolled": false
   },
   "outputs": [
    {
     "name": "stdout",
     "output_type": "stream",
     "text": [
      "Predictions\n",
      "\n",
      "[[ 4.65007553  3.68359664  3.09795736  3.7163917   3.87640863  3.82727189\n",
      "   3.77848976  4.02902148  3.0359538   3.63646448]\n",
      " [ 3.96051607  3.17867021  3.41020582  3.74625753  3.55250962  3.77567929\n",
      "   3.74588319  3.36820779  2.48824681  3.48416801]\n",
      " [ 3.60159761  3.31371988  3.91843859  3.09020875  3.29529884  4.17656884\n",
      "   4.40253602  3.95343078  2.95756683  3.53973295]\n",
      " [ 4.3454929   3.01565265  3.32399121  3.58342624  3.12100202  4.45201224\n",
      "   3.77583532  3.00094603  2.35857899  3.6347705 ]\n",
      " [ 3.387439    1.74479207  1.40429676  2.40439532  0.81702741  2.95579922\n",
      "   1.71817125  2.45393098  1.18877833  2.21655483]\n",
      " [ 4.0767361   3.79098764  4.66546177  3.63367714  4.71542636  3.53625128\n",
      "   4.80230421  4.34905737  2.71967516  3.8491981 ]\n",
      " [ 4.39239048  3.67315512  3.95461939  3.49604492  3.12937079  4.50370819\n",
      "   3.80676354  4.21465111  3.19284122  4.44510867]\n",
      " [ 4.86606782  3.79462615  2.68661442  2.63199357  3.11452836  4.29374191\n",
      "   3.21081695  2.47858642  2.95761975  3.87660725]\n",
      " [ 4.05515507  2.60328334  3.08252758  2.82099002  2.47038225  4.25342826\n",
      "   3.02863412  3.19802087  2.02111694  3.31992267]\n",
      " [ 5.03777529  4.76608344  3.63801646  3.93165071  4.26197632  3.7216997\n",
      "   4.62590766  4.01830062  3.81819906  3.93123828]\n",
      " [ 3.02752243  2.14950609  2.32795621  1.00089111  1.3481748   3.66440787\n",
      "   2.20033719  1.34651423  2.06336747  2.78828035]\n",
      " [ 3.70554901  2.49525269  2.37910403  2.78135808  1.92534276  3.68594459\n",
      "   3.15217651  2.79552937  1.91797704  3.08211935]\n",
      " [ 3.75226363  2.79889297  2.3069684   2.91582219  2.33416096  3.90701233\n",
      "   2.68333101  3.133195    2.19659119  3.01102529]\n",
      " [ 3.83435497  2.40855737  3.26271849  3.08834313  2.30979773  4.21261206\n",
      "   3.38804664  2.42590561  1.5356586   3.87665393]\n",
      " [ 3.47404106  2.77758294  3.35145296  2.83551562  3.28910318  3.5492124\n",
      "   3.24150483  3.07148142  2.85910329  2.81327036]\n",
      " [ 4.56792814  3.30982694  2.93364822  3.70305867  2.95740598  3.60068688\n",
      "   3.812713    3.38952239  2.00066857  3.02105922]\n",
      " [ 4.52382307  3.67367504  2.99943082  2.91670792  2.67826123  4.38156574\n",
      "   3.50028199  3.67269441  2.79062072  4.22035623]\n",
      " [ 4.62537099  3.20372112  2.55581775  2.67602443  2.50822559  3.74924787\n",
      "   4.09923647  3.1819269   1.68153296  3.6163482 ]\n",
      " [ 3.69899214  2.6732693   3.55542402  2.55029655  3.18726743  4.03339264\n",
      "   3.42171456  3.44973846  2.3130334   3.63045684]\n",
      " [ 4.50739943  3.85951122  3.01766388  2.99910254  3.0381569   3.88527207\n",
      "   3.91878698  3.29893873  3.17101818  3.71549608]]\n",
      "---------\n",
      "User 1 --> Movie 1\n",
      "User 2 --> Movie 1\n",
      "User 3 --> Movie 7\n",
      "User 4 --> Movie 6\n",
      "User 5 --> Movie 1\n",
      "User 6 --> Movie 7\n",
      "User 7 --> Movie 6\n",
      "User 8 --> Movie 1\n",
      "User 9 --> Movie 6\n",
      "User 10 --> Movie 1\n",
      "User 11 --> Movie 6\n",
      "User 12 --> Movie 1\n",
      "User 13 --> Movie 6\n",
      "User 14 --> Movie 6\n",
      "User 15 --> Movie 6\n",
      "User 16 --> Movie 1\n",
      "User 17 --> Movie 1\n",
      "User 18 --> Movie 1\n",
      "User 19 --> Movie 6\n",
      "User 20 --> Movie 1\n"
     ]
    }
   ],
   "source": [
    "print(\"Predictions\\n\")\n",
    "\n",
    "pred = A[0:20,:]*B[:,0:10]\n",
    "\n",
    "print(pred)\n",
    "\n",
    "print(\"---------\")\n",
    "\n",
    "for i in range(20):\n",
    "    maxIndex = np.argmax(pred[i,:])\n",
    "    print(\"User \"+str(i+1)+\" --> Movie \"+str(maxIndex+1))"
   ]
  }
 ],
 "metadata": {
  "kernelspec": {
   "display_name": "Python 3",
   "language": "python",
   "name": "python3"
  },
  "language_info": {
   "codemirror_mode": {
    "name": "ipython",
    "version": 3
   },
   "file_extension": ".py",
   "mimetype": "text/x-python",
   "name": "python",
   "nbconvert_exporter": "python",
   "pygments_lexer": "ipython3",
   "version": "3.5.1"
  }
 },
 "nbformat": 4,
 "nbformat_minor": 0
}
